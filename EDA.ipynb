{
 "cells": [
  {
   "cell_type": "markdown",
   "id": "a9d151c5-427c-4d4b-9b4e-f8d29c07fbd7",
   "metadata": {},
   "source": [
    "# Binary Classification of Machine Failures\n",
    "\n",
    "This notebook is for a Kaggle competition from https://www.kaggle.com/competitions/playground-series-s3e17/data"
   ]
  },
  {
   "cell_type": "code",
   "execution_count": 28,
   "id": "d01dd090-076a-4e2d-9320-0522d1b867a6",
   "metadata": {},
   "outputs": [],
   "source": [
    "# EDA\n",
    "import pandas as pd\n",
    "import numpy as np\n",
    "import matplotlib.pyplot as plt\n",
    "import seaborn as sns\n",
    "from scipy.stats import ttest_ind\n",
    "\n",
    "# Modelling\n",
    "from sklearn.pipeline import Pipeline\n",
    "from sklearn.preprocessing import StandardScaler, OneHotEncoder\n",
    "from sklearn.model_selection import train_test_split, GridSearchCV\n",
    "from sklearn.compose import ColumnTransformer\n",
    "from sklearn.svm import SVC\n",
    "from sklearn.linear_model import LogisticRegression\n",
    "from sklearn.ensemble import RandomForestClassifier\n",
    "from sklearn import metrics\n",
    "\n",
    "# Experiment tracking\n",
    "import mlflow"
   ]
  },
  {
   "cell_type": "code",
   "execution_count": 29,
   "id": "2f5dea44-16ec-408c-a1ec-c2f68e10386e",
   "metadata": {},
   "outputs": [],
   "source": [
    "train_data = \"data/train.csv\"\n",
    "test_data = \"data/test.csv\"\n",
    "train_df = pd.read_csv(train_data)\n",
    "test_df = pd.read_csv(test_data)\n",
    "target_col = \"Machine failure\""
   ]
  },
  {
   "cell_type": "code",
   "execution_count": 30,
   "id": "042a3f36-dcbf-4040-b01a-383ec311867b",
   "metadata": {},
   "outputs": [
    {
     "data": {
      "text/plain": [
       "((136429, 14), (90954, 13))"
      ]
     },
     "execution_count": 30,
     "metadata": {},
     "output_type": "execute_result"
    }
   ],
   "source": [
    "train_df.shape, test_df.shape"
   ]
  },
  {
   "cell_type": "code",
   "execution_count": 31,
   "id": "abf129da-fbef-4190-893f-46171873d80e",
   "metadata": {},
   "outputs": [
    {
     "data": {
      "text/plain": [
       "Index(['id', 'Product ID', 'Type', 'Air temperature [K]',\n",
       "       'Process temperature [K]', 'Rotational speed [rpm]', 'Torque [Nm]',\n",
       "       'Tool wear [min]', 'Machine failure', 'TWF', 'HDF', 'PWF', 'OSF',\n",
       "       'RNF'],\n",
       "      dtype='object')"
      ]
     },
     "execution_count": 31,
     "metadata": {},
     "output_type": "execute_result"
    }
   ],
   "source": [
    "train_df.columns"
   ]
  },
  {
   "cell_type": "code",
   "execution_count": 32,
   "id": "f931546f-0e7a-451c-a07a-95365408655a",
   "metadata": {},
   "outputs": [
    {
     "data": {
      "text/html": [
       "<div>\n",
       "<style scoped>\n",
       "    .dataframe tbody tr th:only-of-type {\n",
       "        vertical-align: middle;\n",
       "    }\n",
       "\n",
       "    .dataframe tbody tr th {\n",
       "        vertical-align: top;\n",
       "    }\n",
       "\n",
       "    .dataframe thead th {\n",
       "        text-align: right;\n",
       "    }\n",
       "</style>\n",
       "<table border=\"1\" class=\"dataframe\">\n",
       "  <thead>\n",
       "    <tr style=\"text-align: right;\">\n",
       "      <th></th>\n",
       "      <th>id</th>\n",
       "      <th>Air temperature [K]</th>\n",
       "      <th>Process temperature [K]</th>\n",
       "      <th>Rotational speed [rpm]</th>\n",
       "      <th>Torque [Nm]</th>\n",
       "      <th>Tool wear [min]</th>\n",
       "      <th>Machine failure</th>\n",
       "      <th>TWF</th>\n",
       "      <th>HDF</th>\n",
       "      <th>PWF</th>\n",
       "      <th>OSF</th>\n",
       "      <th>RNF</th>\n",
       "    </tr>\n",
       "  </thead>\n",
       "  <tbody>\n",
       "    <tr>\n",
       "      <th>count</th>\n",
       "      <td>136429.000000</td>\n",
       "      <td>136429.000000</td>\n",
       "      <td>136429.000000</td>\n",
       "      <td>136429.000000</td>\n",
       "      <td>136429.000000</td>\n",
       "      <td>136429.000000</td>\n",
       "      <td>136429.000000</td>\n",
       "      <td>136429.000000</td>\n",
       "      <td>136429.000000</td>\n",
       "      <td>136429.000000</td>\n",
       "      <td>136429.000000</td>\n",
       "      <td>136429.000000</td>\n",
       "    </tr>\n",
       "    <tr>\n",
       "      <th>mean</th>\n",
       "      <td>68214.000000</td>\n",
       "      <td>299.862776</td>\n",
       "      <td>309.941070</td>\n",
       "      <td>1520.331110</td>\n",
       "      <td>40.348643</td>\n",
       "      <td>104.408901</td>\n",
       "      <td>0.015744</td>\n",
       "      <td>0.001554</td>\n",
       "      <td>0.005160</td>\n",
       "      <td>0.002397</td>\n",
       "      <td>0.003958</td>\n",
       "      <td>0.002258</td>\n",
       "    </tr>\n",
       "    <tr>\n",
       "      <th>std</th>\n",
       "      <td>39383.804275</td>\n",
       "      <td>1.862247</td>\n",
       "      <td>1.385173</td>\n",
       "      <td>138.736632</td>\n",
       "      <td>8.502229</td>\n",
       "      <td>63.965040</td>\n",
       "      <td>0.124486</td>\n",
       "      <td>0.039389</td>\n",
       "      <td>0.071649</td>\n",
       "      <td>0.048899</td>\n",
       "      <td>0.062789</td>\n",
       "      <td>0.047461</td>\n",
       "    </tr>\n",
       "    <tr>\n",
       "      <th>min</th>\n",
       "      <td>0.000000</td>\n",
       "      <td>295.300000</td>\n",
       "      <td>305.800000</td>\n",
       "      <td>1181.000000</td>\n",
       "      <td>3.800000</td>\n",
       "      <td>0.000000</td>\n",
       "      <td>0.000000</td>\n",
       "      <td>0.000000</td>\n",
       "      <td>0.000000</td>\n",
       "      <td>0.000000</td>\n",
       "      <td>0.000000</td>\n",
       "      <td>0.000000</td>\n",
       "    </tr>\n",
       "    <tr>\n",
       "      <th>25%</th>\n",
       "      <td>34107.000000</td>\n",
       "      <td>298.300000</td>\n",
       "      <td>308.700000</td>\n",
       "      <td>1432.000000</td>\n",
       "      <td>34.600000</td>\n",
       "      <td>48.000000</td>\n",
       "      <td>0.000000</td>\n",
       "      <td>0.000000</td>\n",
       "      <td>0.000000</td>\n",
       "      <td>0.000000</td>\n",
       "      <td>0.000000</td>\n",
       "      <td>0.000000</td>\n",
       "    </tr>\n",
       "    <tr>\n",
       "      <th>50%</th>\n",
       "      <td>68214.000000</td>\n",
       "      <td>300.000000</td>\n",
       "      <td>310.000000</td>\n",
       "      <td>1493.000000</td>\n",
       "      <td>40.400000</td>\n",
       "      <td>106.000000</td>\n",
       "      <td>0.000000</td>\n",
       "      <td>0.000000</td>\n",
       "      <td>0.000000</td>\n",
       "      <td>0.000000</td>\n",
       "      <td>0.000000</td>\n",
       "      <td>0.000000</td>\n",
       "    </tr>\n",
       "    <tr>\n",
       "      <th>75%</th>\n",
       "      <td>102321.000000</td>\n",
       "      <td>301.200000</td>\n",
       "      <td>310.900000</td>\n",
       "      <td>1580.000000</td>\n",
       "      <td>46.100000</td>\n",
       "      <td>159.000000</td>\n",
       "      <td>0.000000</td>\n",
       "      <td>0.000000</td>\n",
       "      <td>0.000000</td>\n",
       "      <td>0.000000</td>\n",
       "      <td>0.000000</td>\n",
       "      <td>0.000000</td>\n",
       "    </tr>\n",
       "    <tr>\n",
       "      <th>max</th>\n",
       "      <td>136428.000000</td>\n",
       "      <td>304.400000</td>\n",
       "      <td>313.800000</td>\n",
       "      <td>2886.000000</td>\n",
       "      <td>76.600000</td>\n",
       "      <td>253.000000</td>\n",
       "      <td>1.000000</td>\n",
       "      <td>1.000000</td>\n",
       "      <td>1.000000</td>\n",
       "      <td>1.000000</td>\n",
       "      <td>1.000000</td>\n",
       "      <td>1.000000</td>\n",
       "    </tr>\n",
       "  </tbody>\n",
       "</table>\n",
       "</div>"
      ],
      "text/plain": [
       "                  id  Air temperature [K]  Process temperature [K]  \\\n",
       "count  136429.000000        136429.000000            136429.000000   \n",
       "mean    68214.000000           299.862776               309.941070   \n",
       "std     39383.804275             1.862247                 1.385173   \n",
       "min         0.000000           295.300000               305.800000   \n",
       "25%     34107.000000           298.300000               308.700000   \n",
       "50%     68214.000000           300.000000               310.000000   \n",
       "75%    102321.000000           301.200000               310.900000   \n",
       "max    136428.000000           304.400000               313.800000   \n",
       "\n",
       "       Rotational speed [rpm]    Torque [Nm]  Tool wear [min]  \\\n",
       "count           136429.000000  136429.000000    136429.000000   \n",
       "mean              1520.331110      40.348643       104.408901   \n",
       "std                138.736632       8.502229        63.965040   \n",
       "min               1181.000000       3.800000         0.000000   \n",
       "25%               1432.000000      34.600000        48.000000   \n",
       "50%               1493.000000      40.400000       106.000000   \n",
       "75%               1580.000000      46.100000       159.000000   \n",
       "max               2886.000000      76.600000       253.000000   \n",
       "\n",
       "       Machine failure            TWF            HDF            PWF  \\\n",
       "count    136429.000000  136429.000000  136429.000000  136429.000000   \n",
       "mean          0.015744       0.001554       0.005160       0.002397   \n",
       "std           0.124486       0.039389       0.071649       0.048899   \n",
       "min           0.000000       0.000000       0.000000       0.000000   \n",
       "25%           0.000000       0.000000       0.000000       0.000000   \n",
       "50%           0.000000       0.000000       0.000000       0.000000   \n",
       "75%           0.000000       0.000000       0.000000       0.000000   \n",
       "max           1.000000       1.000000       1.000000       1.000000   \n",
       "\n",
       "                 OSF            RNF  \n",
       "count  136429.000000  136429.000000  \n",
       "mean        0.003958       0.002258  \n",
       "std         0.062789       0.047461  \n",
       "min         0.000000       0.000000  \n",
       "25%         0.000000       0.000000  \n",
       "50%         0.000000       0.000000  \n",
       "75%         0.000000       0.000000  \n",
       "max         1.000000       1.000000  "
      ]
     },
     "execution_count": 32,
     "metadata": {},
     "output_type": "execute_result"
    }
   ],
   "source": [
    "train_df.describe()"
   ]
  },
  {
   "cell_type": "code",
   "execution_count": 33,
   "id": "8ee06990-23c1-4f56-8820-7c21fee912c8",
   "metadata": {},
   "outputs": [
    {
     "data": {
      "text/html": [
       "<div>\n",
       "<style scoped>\n",
       "    .dataframe tbody tr th:only-of-type {\n",
       "        vertical-align: middle;\n",
       "    }\n",
       "\n",
       "    .dataframe tbody tr th {\n",
       "        vertical-align: top;\n",
       "    }\n",
       "\n",
       "    .dataframe thead th {\n",
       "        text-align: right;\n",
       "    }\n",
       "</style>\n",
       "<table border=\"1\" class=\"dataframe\">\n",
       "  <thead>\n",
       "    <tr style=\"text-align: right;\">\n",
       "      <th></th>\n",
       "      <th>id</th>\n",
       "      <th>Product ID</th>\n",
       "      <th>Type</th>\n",
       "      <th>Air temperature [K]</th>\n",
       "      <th>Process temperature [K]</th>\n",
       "      <th>Rotational speed [rpm]</th>\n",
       "      <th>Torque [Nm]</th>\n",
       "      <th>Tool wear [min]</th>\n",
       "      <th>Machine failure</th>\n",
       "      <th>TWF</th>\n",
       "      <th>HDF</th>\n",
       "      <th>PWF</th>\n",
       "      <th>OSF</th>\n",
       "      <th>RNF</th>\n",
       "    </tr>\n",
       "  </thead>\n",
       "  <tbody>\n",
       "    <tr>\n",
       "      <th>0</th>\n",
       "      <td>0</td>\n",
       "      <td>L50096</td>\n",
       "      <td>L</td>\n",
       "      <td>300.6</td>\n",
       "      <td>309.6</td>\n",
       "      <td>1596</td>\n",
       "      <td>36.1</td>\n",
       "      <td>140</td>\n",
       "      <td>0</td>\n",
       "      <td>0</td>\n",
       "      <td>0</td>\n",
       "      <td>0</td>\n",
       "      <td>0</td>\n",
       "      <td>0</td>\n",
       "    </tr>\n",
       "    <tr>\n",
       "      <th>1</th>\n",
       "      <td>1</td>\n",
       "      <td>M20343</td>\n",
       "      <td>M</td>\n",
       "      <td>302.6</td>\n",
       "      <td>312.1</td>\n",
       "      <td>1759</td>\n",
       "      <td>29.1</td>\n",
       "      <td>200</td>\n",
       "      <td>0</td>\n",
       "      <td>0</td>\n",
       "      <td>0</td>\n",
       "      <td>0</td>\n",
       "      <td>0</td>\n",
       "      <td>0</td>\n",
       "    </tr>\n",
       "    <tr>\n",
       "      <th>2</th>\n",
       "      <td>2</td>\n",
       "      <td>L49454</td>\n",
       "      <td>L</td>\n",
       "      <td>299.3</td>\n",
       "      <td>308.5</td>\n",
       "      <td>1805</td>\n",
       "      <td>26.5</td>\n",
       "      <td>25</td>\n",
       "      <td>0</td>\n",
       "      <td>0</td>\n",
       "      <td>0</td>\n",
       "      <td>0</td>\n",
       "      <td>0</td>\n",
       "      <td>0</td>\n",
       "    </tr>\n",
       "    <tr>\n",
       "      <th>3</th>\n",
       "      <td>3</td>\n",
       "      <td>L53355</td>\n",
       "      <td>L</td>\n",
       "      <td>301.0</td>\n",
       "      <td>310.9</td>\n",
       "      <td>1524</td>\n",
       "      <td>44.3</td>\n",
       "      <td>197</td>\n",
       "      <td>0</td>\n",
       "      <td>0</td>\n",
       "      <td>0</td>\n",
       "      <td>0</td>\n",
       "      <td>0</td>\n",
       "      <td>0</td>\n",
       "    </tr>\n",
       "    <tr>\n",
       "      <th>4</th>\n",
       "      <td>4</td>\n",
       "      <td>M24050</td>\n",
       "      <td>M</td>\n",
       "      <td>298.0</td>\n",
       "      <td>309.0</td>\n",
       "      <td>1641</td>\n",
       "      <td>35.4</td>\n",
       "      <td>34</td>\n",
       "      <td>0</td>\n",
       "      <td>0</td>\n",
       "      <td>0</td>\n",
       "      <td>0</td>\n",
       "      <td>0</td>\n",
       "      <td>0</td>\n",
       "    </tr>\n",
       "  </tbody>\n",
       "</table>\n",
       "</div>"
      ],
      "text/plain": [
       "   id Product ID Type  Air temperature [K]  Process temperature [K]  \\\n",
       "0   0     L50096    L                300.6                    309.6   \n",
       "1   1     M20343    M                302.6                    312.1   \n",
       "2   2     L49454    L                299.3                    308.5   \n",
       "3   3     L53355    L                301.0                    310.9   \n",
       "4   4     M24050    M                298.0                    309.0   \n",
       "\n",
       "   Rotational speed [rpm]  Torque [Nm]  Tool wear [min]  Machine failure  TWF  \\\n",
       "0                    1596         36.1              140                0    0   \n",
       "1                    1759         29.1              200                0    0   \n",
       "2                    1805         26.5               25                0    0   \n",
       "3                    1524         44.3              197                0    0   \n",
       "4                    1641         35.4               34                0    0   \n",
       "\n",
       "   HDF  PWF  OSF  RNF  \n",
       "0    0    0    0    0  \n",
       "1    0    0    0    0  \n",
       "2    0    0    0    0  \n",
       "3    0    0    0    0  \n",
       "4    0    0    0    0  "
      ]
     },
     "execution_count": 33,
     "metadata": {},
     "output_type": "execute_result"
    }
   ],
   "source": [
    "train_df.head()"
   ]
  },
  {
   "cell_type": "code",
   "execution_count": 34,
   "id": "e01ca6b8-b7cb-4d52-8798-001804c97b1e",
   "metadata": {},
   "outputs": [
    {
     "data": {
      "text/plain": [
       "array([0, 1])"
      ]
     },
     "execution_count": 34,
     "metadata": {},
     "output_type": "execute_result"
    }
   ],
   "source": [
    "train_df[target_col].unique()"
   ]
  },
  {
   "cell_type": "code",
   "execution_count": 35,
   "id": "2936ed72-bc6e-4ab8-aed2-b168094b52c4",
   "metadata": {},
   "outputs": [
    {
     "data": {
      "text/plain": [
       "Machine failure\n",
       "0    134281\n",
       "1      2148\n",
       "Name: id, dtype: int64"
      ]
     },
     "execution_count": 35,
     "metadata": {},
     "output_type": "execute_result"
    }
   ],
   "source": [
    "# Data is unbalanced\n",
    "train_df.groupby([target_col]).id.count()"
   ]
  },
  {
   "cell_type": "code",
   "execution_count": 36,
   "id": "eeca4e2c-e2e2-41c8-a67d-d4a58a38af69",
   "metadata": {},
   "outputs": [
    {
     "data": {
      "text/plain": [
       "[]"
      ]
     },
     "execution_count": 36,
     "metadata": {},
     "output_type": "execute_result"
    },
    {
     "data": {
      "image/png": "[encoded data removed]",
      "text/plain": [
       "<Figure size 432x288 with 1 Axes>"
      ]
     },
     "metadata": {
      "needs_background": "light"
     },
     "output_type": "display_data"
    }
   ],
   "source": [
    "plt.hist(train_df[target_col].tolist())\n",
    "plt.title(\"target labels\")\n",
    "plt.plot()"
   ]
  },
  {
   "cell_type": "markdown",
   "id": "973d1081-64bb-46f1-a2e6-09e7862dd2a1",
   "metadata": {},
   "source": [
    "### Missing value check"
   ]
  },
  {
   "cell_type": "code",
   "execution_count": 37,
   "id": "9fbaac38-0848-4b24-85fa-24a81f0e4a0e",
   "metadata": {},
   "outputs": [
    {
     "data": {
      "text/plain": [
       "id                         0\n",
       "Product ID                 0\n",
       "Type                       0\n",
       "Air temperature [K]        0\n",
       "Process temperature [K]    0\n",
       "Rotational speed [rpm]     0\n",
       "Torque [Nm]                0\n",
       "Tool wear [min]            0\n",
       "Machine failure            0\n",
       "TWF                        0\n",
       "HDF                        0\n",
       "PWF                        0\n",
       "OSF                        0\n",
       "RNF                        0\n",
       "dtype: int64"
      ]
     },
     "execution_count": 37,
     "metadata": {},
     "output_type": "execute_result"
    }
   ],
   "source": [
    "# Check missing values\n",
    "train_df.isna().sum()"
   ]
  },
  {
   "cell_type": "markdown",
   "id": "c66bca43-f52d-4c40-b2d0-f76d39480305",
   "metadata": {},
   "source": [
    "### Correlation check"
   ]
  },
  {
   "cell_type": "code",
   "execution_count": 38,
   "id": "909ed0b1-0a66-4806-acf4-42270d110dca",
   "metadata": {},
   "outputs": [
    {
     "data": {
      "text/html": [
       "<div>\n",
       "<style scoped>\n",
       "    .dataframe tbody tr th:only-of-type {\n",
       "        vertical-align: middle;\n",
       "    }\n",
       "\n",
       "    .dataframe tbody tr th {\n",
       "        vertical-align: top;\n",
       "    }\n",
       "\n",
       "    .dataframe thead th {\n",
       "        text-align: right;\n",
       "    }\n",
       "</style>\n",
       "<table border=\"1\" class=\"dataframe\">\n",
       "  <thead>\n",
       "    <tr style=\"text-align: right;\">\n",
       "      <th></th>\n",
       "      <th>Air temperature [K]</th>\n",
       "      <th>Process temperature [K]</th>\n",
       "      <th>Rotational speed [rpm]</th>\n",
       "      <th>Torque [Nm]</th>\n",
       "      <th>Tool wear [min]</th>\n",
       "      <th>TWF</th>\n",
       "      <th>HDF</th>\n",
       "      <th>PWF</th>\n",
       "      <th>OSF</th>\n",
       "      <th>RNF</th>\n",
       "    </tr>\n",
       "  </thead>\n",
       "  <tbody>\n",
       "    <tr>\n",
       "      <th>Air temperature [K]</th>\n",
       "      <td>1.000000</td>\n",
       "      <td>0.856080</td>\n",
       "      <td>0.016545</td>\n",
       "      <td>-0.006773</td>\n",
       "      <td>0.016994</td>\n",
       "      <td>0.003826</td>\n",
       "      <td>0.100454</td>\n",
       "      <td>0.007967</td>\n",
       "      <td>0.007842</td>\n",
       "      <td>0.004815</td>\n",
       "    </tr>\n",
       "    <tr>\n",
       "      <th>Process temperature [K]</th>\n",
       "      <td>0.856080</td>\n",
       "      <td>1.000000</td>\n",
       "      <td>0.011263</td>\n",
       "      <td>-0.006298</td>\n",
       "      <td>0.012777</td>\n",
       "      <td>0.004459</td>\n",
       "      <td>0.041454</td>\n",
       "      <td>0.003871</td>\n",
       "      <td>0.005337</td>\n",
       "      <td>0.004399</td>\n",
       "    </tr>\n",
       "    <tr>\n",
       "      <th>Rotational speed [rpm]</th>\n",
       "      <td>0.016545</td>\n",
       "      <td>0.011263</td>\n",
       "      <td>1.000000</td>\n",
       "      <td>-0.779394</td>\n",
       "      <td>0.003983</td>\n",
       "      <td>-0.005765</td>\n",
       "      <td>-0.081996</td>\n",
       "      <td>0.053948</td>\n",
       "      <td>-0.061376</td>\n",
       "      <td>-0.003410</td>\n",
       "    </tr>\n",
       "    <tr>\n",
       "      <th>Torque [Nm]</th>\n",
       "      <td>-0.006773</td>\n",
       "      <td>-0.006298</td>\n",
       "      <td>-0.779394</td>\n",
       "      <td>1.000000</td>\n",
       "      <td>-0.003148</td>\n",
       "      <td>0.012983</td>\n",
       "      <td>0.100773</td>\n",
       "      <td>0.050289</td>\n",
       "      <td>0.108765</td>\n",
       "      <td>0.007986</td>\n",
       "    </tr>\n",
       "    <tr>\n",
       "      <th>Tool wear [min]</th>\n",
       "      <td>0.016994</td>\n",
       "      <td>0.012777</td>\n",
       "      <td>0.003983</td>\n",
       "      <td>-0.003148</td>\n",
       "      <td>1.000000</td>\n",
       "      <td>0.046470</td>\n",
       "      <td>0.011709</td>\n",
       "      <td>0.007624</td>\n",
       "      <td>0.063604</td>\n",
       "      <td>-0.002071</td>\n",
       "    </tr>\n",
       "    <tr>\n",
       "      <th>TWF</th>\n",
       "      <td>0.003826</td>\n",
       "      <td>0.004459</td>\n",
       "      <td>-0.005765</td>\n",
       "      <td>0.012983</td>\n",
       "      <td>0.046470</td>\n",
       "      <td>1.000000</td>\n",
       "      <td>0.010145</td>\n",
       "      <td>0.039927</td>\n",
       "      <td>0.036041</td>\n",
       "      <td>0.002044</td>\n",
       "    </tr>\n",
       "    <tr>\n",
       "      <th>HDF</th>\n",
       "      <td>0.100454</td>\n",
       "      <td>0.041454</td>\n",
       "      <td>-0.081996</td>\n",
       "      <td>0.100773</td>\n",
       "      <td>0.011709</td>\n",
       "      <td>0.010145</td>\n",
       "      <td>1.000000</td>\n",
       "      <td>0.046680</td>\n",
       "      <td>0.067149</td>\n",
       "      <td>0.000885</td>\n",
       "    </tr>\n",
       "    <tr>\n",
       "      <th>PWF</th>\n",
       "      <td>0.007967</td>\n",
       "      <td>0.003871</td>\n",
       "      <td>0.053948</td>\n",
       "      <td>0.050289</td>\n",
       "      <td>0.007624</td>\n",
       "      <td>0.039927</td>\n",
       "      <td>0.046680</td>\n",
       "      <td>1.000000</td>\n",
       "      <td>0.090016</td>\n",
       "      <td>0.000827</td>\n",
       "    </tr>\n",
       "    <tr>\n",
       "      <th>OSF</th>\n",
       "      <td>0.007842</td>\n",
       "      <td>0.005337</td>\n",
       "      <td>-0.061376</td>\n",
       "      <td>0.108765</td>\n",
       "      <td>0.063604</td>\n",
       "      <td>0.036041</td>\n",
       "      <td>0.067149</td>\n",
       "      <td>0.090016</td>\n",
       "      <td>1.000000</td>\n",
       "      <td>-0.000539</td>\n",
       "    </tr>\n",
       "    <tr>\n",
       "      <th>RNF</th>\n",
       "      <td>0.004815</td>\n",
       "      <td>0.004399</td>\n",
       "      <td>-0.003410</td>\n",
       "      <td>0.007986</td>\n",
       "      <td>-0.002071</td>\n",
       "      <td>0.002044</td>\n",
       "      <td>0.000885</td>\n",
       "      <td>0.000827</td>\n",
       "      <td>-0.000539</td>\n",
       "      <td>1.000000</td>\n",
       "    </tr>\n",
       "  </tbody>\n",
       "</table>\n",
       "</div>"
      ],
      "text/plain": [
       "                         Air temperature [K]  Process temperature [K]  \\\n",
       "Air temperature [K]                 1.000000                 0.856080   \n",
       "Process temperature [K]             0.856080                 1.000000   \n",
       "Rotational speed [rpm]              0.016545                 0.011263   \n",
       "Torque [Nm]                        -0.006773                -0.006298   \n",
       "Tool wear [min]                     0.016994                 0.012777   \n",
       "TWF                                 0.003826                 0.004459   \n",
       "HDF                                 0.100454                 0.041454   \n",
       "PWF                                 0.007967                 0.003871   \n",
       "OSF                                 0.007842                 0.005337   \n",
       "RNF                                 0.004815                 0.004399   \n",
       "\n",
       "                         Rotational speed [rpm]  Torque [Nm]  Tool wear [min]  \\\n",
       "Air temperature [K]                    0.016545    -0.006773         0.016994   \n",
       "Process temperature [K]                0.011263    -0.006298         0.012777   \n",
       "Rotational speed [rpm]                 1.000000    -0.779394         0.003983   \n",
       "Torque [Nm]                           -0.779394     1.000000        -0.003148   \n",
       "Tool wear [min]                        0.003983    -0.003148         1.000000   \n",
       "TWF                                   -0.005765     0.012983         0.046470   \n",
       "HDF                                   -0.081996     0.100773         0.011709   \n",
       "PWF                                    0.053948     0.050289         0.007624   \n",
       "OSF                                   -0.061376     0.108765         0.063604   \n",
       "RNF                                   -0.003410     0.007986        -0.002071   \n",
       "\n",
       "                              TWF       HDF       PWF       OSF       RNF  \n",
       "Air temperature [K]      0.003826  0.100454  0.007967  0.007842  0.004815  \n",
       "Process temperature [K]  0.004459  0.041454  0.003871  0.005337  0.004399  \n",
       "Rotational speed [rpm]  -0.005765 -0.081996  0.053948 -0.061376 -0.003410  \n",
       "Torque [Nm]              0.012983  0.100773  0.050289  0.108765  0.007986  \n",
       "Tool wear [min]          0.046470  0.011709  0.007624  0.063604 -0.002071  \n",
       "TWF                      1.000000  0.010145  0.039927  0.036041  0.002044  \n",
       "HDF                      0.010145  1.000000  0.046680  0.067149  0.000885  \n",
       "PWF                      0.039927  0.046680  1.000000  0.090016  0.000827  \n",
       "OSF                      0.036041  0.067149  0.090016  1.000000 -0.000539  \n",
       "RNF                      0.002044  0.000885  0.000827 -0.000539  1.000000  "
      ]
     },
     "execution_count": 38,
     "metadata": {},
     "output_type": "execute_result"
    }
   ],
   "source": [
    "# Check correlations among features\n",
    "col_num = train_df.columns.drop(['id', 'Product ID', 'Type'])\n",
    "corr = train_df[col_num.drop(target_col)].corr(method='pearson', min_periods=1, numeric_only=False)\n",
    "corr"
   ]
  },
  {
   "cell_type": "code",
   "execution_count": 39,
   "id": "58a4be5f-ea80-4fa3-842a-1067bea74c62",
   "metadata": {},
   "outputs": [
    {
     "data": {
      "image/png": "[encoded data removed]",
      "text/plain": [
       "<Figure size 864x576 with 2 Axes>"
      ]
     },
     "metadata": {
      "needs_background": "light"
     },
     "output_type": "display_data"
    }
   ],
   "source": [
    "plt.figure(figsize = (12, 8))\n",
    "dataplot = sns.heatmap(corr, cmap=\"YlGnBu\", annot=True)\n",
    "plt.show()"
   ]
  },
  {
   "cell_type": "markdown",
   "id": "83d66edb-7ef8-4662-bd47-303c1b8ede79",
   "metadata": {},
   "source": [
    "You can see the correlation between Process temperature and Air temperature, as well as Torque and Rotational speed. Let's plot them on scatter plot."
   ]
  },
  {
   "cell_type": "code",
   "execution_count": 40,
   "id": "5b9d0c64-7578-4647-9edf-f5bd10f3361a",
   "metadata": {},
   "outputs": [
    {
     "data": {
      "text/plain": [
       "[]"
      ]
     },
     "execution_count": 40,
     "metadata": {},
     "output_type": "execute_result"
    },
    {
     "data": {
      "image/png": "[encoded data removed]",
      "text/plain": [
       "<Figure size 576x432 with 1 Axes>"
      ]
     },
     "metadata": {
      "needs_background": "light"
     },
     "output_type": "display_data"
    }
   ],
   "source": [
    "plt.figure(figsize = (8, 6))\n",
    "x = train_df['Air temperature [K]'].tolist()\n",
    "y = train_df['Process temperature [K]'].tolist()\n",
    "plt.scatter(x, y)\n",
    "plt.xlabel('Air temperature [K]')\n",
    "plt.ylabel('Process temperature [K]')\n",
    "plt.plot()"
   ]
  },
  {
   "cell_type": "code",
   "execution_count": 41,
   "id": "c3ac7b07-1b4d-41ab-9678-7828a253896f",
   "metadata": {},
   "outputs": [
    {
     "data": {
      "text/plain": [
       "[]"
      ]
     },
     "execution_count": 41,
     "metadata": {},
     "output_type": "execute_result"
    },
    {
     "data": {
      "image/png": "[encoded data removed]",
      "text/plain": [
       "<Figure size 576x432 with 1 Axes>"
      ]
     },
     "metadata": {
      "needs_background": "light"
     },
     "output_type": "display_data"
    }
   ],
   "source": [
    "plt.figure(figsize = (8, 6))\n",
    "x = train_df['Rotational speed [rpm]'].tolist()\n",
    "y = train_df['Torque [Nm]'].tolist()\n",
    "plt.scatter(x, y)\n",
    "plt.xlabel('Rotational speed [rpm]')\n",
    "plt.ylabel('Torque [Nm]')\n",
    "plt.plot()"
   ]
  },
  {
   "cell_type": "markdown",
   "id": "6e6cde71-7af3-4dc3-afaa-44dfd0f04fab",
   "metadata": {},
   "source": [
    "### Statistical Test"
   ]
  },
  {
   "cell_type": "code",
   "execution_count": 42,
   "id": "60041047-a739-4423-a29e-6264ebe8c0bc",
   "metadata": {},
   "outputs": [
    {
     "name": "stdout",
     "output_type": "stream",
     "text": [
      "Result of t-test with the target variable 'Machine failure'\n",
      "\n",
      "Air temperature [K]:  Ttest_indResult(statistic=59340.01261160426, pvalue=0.0)\n",
      "Process temperature [K]:  Ttest_indResult(statistic=82311.32554067486, pvalue=0.0)\n",
      "Rotational speed [rpm]:  Ttest_indResult(statistic=4047.5825115998837, pvalue=0.0)\n",
      "Torque [Nm]:  Ttest_indResult(statistic=1751.9973234431986, pvalue=0.0)\n",
      "Tool wear [min]:  Ttest_indResult(statistic=602.8119886940104, pvalue=0.0)\n",
      "TWF:  Ttest_indResult(statistic=-40.14327232179999, pvalue=0.0)\n",
      "HDF:  Ttest_indResult(statistic=-27.218316577712752, pvalue=6.5226209865866e-163)\n",
      "PWF:  Ttest_indResult(statistic=-36.8619325471856, pvalue=1.0191987504514202e-296)\n",
      "OSF:  Ttest_indResult(statistic=-31.224401874723775, pvalue=1.1872232521945708e-213)\n",
      "RNF:  Ttest_indResult(statistic=-37.39170665182456, pvalue=3.184022653238172e-305)\n"
     ]
    }
   ],
   "source": [
    "print(\"Result of t-test with the target variable 'Machine failure'\\n\")\n",
    "for col in col_num.drop(target_col):\n",
    "    res = ttest_ind(train_df[col], train_df[target_col])\n",
    "    print(f\"{col}: \", res)"
   ]
  },
  {
   "cell_type": "markdown",
   "id": "89152604-7f0e-4b4e-83fc-cc0405d827b7",
   "metadata": {},
   "source": [
    "null hypothesis : the two(failure and non-failure) are from the same population.\n",
    "\n",
    "p-value smaller than 0.05 means that there is a statistically significant difference between the two groups."
   ]
  },
  {
   "cell_type": "markdown",
   "id": "1d78a516-4ec0-45b4-9339-ac543bc6c609",
   "metadata": {},
   "source": [
    "# Training models"
   ]
  },
  {
   "cell_type": "code",
   "execution_count": 43,
   "id": "edd8e149-20d9-4f80-a04f-d6d2ee34b466",
   "metadata": {},
   "outputs": [],
   "source": [
    "# train test split\n",
    "train, valid = train_test_split(train_df, test_size=0.3)\n",
    "X_train = train.drop(target_col, axis=1)\n",
    "y_train = train[target_col]\n",
    "X_valid = valid.drop(target_col, axis=1)\n",
    "y_valid = valid[target_col]"
   ]
  },
  {
   "cell_type": "code",
   "execution_count": 44,
   "id": "1928d8b2-4ffd-4c79-a030-4da5330a84ec",
   "metadata": {},
   "outputs": [
    {
     "data": {
      "text/plain": [
       "((95500, 13), (40929, 13))"
      ]
     },
     "execution_count": 44,
     "metadata": {},
     "output_type": "execute_result"
    }
   ],
   "source": [
    "X_train.shape, X_valid.shape"
   ]
  },
  {
   "cell_type": "code",
   "execution_count": 18,
   "id": "2e12c22f-8bf6-4d16-842a-812e3148dbb5",
   "metadata": {},
   "outputs": [],
   "source": [
    "numeric_features = col_num.drop(target_col)\n",
    "numeric_transformer = StandardScaler()\n",
    "categorical_features = ['Type']\n",
    "categorical_transformer = OneHotEncoder()"
   ]
  },
  {
   "cell_type": "code",
   "execution_count": 19,
   "id": "5df694f4-73e8-40f3-8d6b-6046e121dc3c",
   "metadata": {},
   "outputs": [],
   "source": [
    "processor = ColumnTransformer(\n",
    "    transformers=[\n",
    "        (\"num\", numeric_transformer, numeric_features),\n",
    "        (\"cat\", categorical_transformer, categorical_features)\n",
    "    ]\n",
    ")"
   ]
  },
  {
   "cell_type": "code",
   "execution_count": 20,
   "id": "85bd2801-e500-4225-b378-7e27e8c10290",
   "metadata": {},
   "outputs": [],
   "source": [
    "model = RandomForestClassifier()"
   ]
  },
  {
   "cell_type": "code",
   "execution_count": 21,
   "id": "5f4a5281-4279-4491-905f-0184c402a695",
   "metadata": {},
   "outputs": [],
   "source": [
    "# Defining pipeline\n",
    "pipe = Pipeline([\n",
    "    ('processor', processor), \n",
    "    ('classifier', model)\n",
    "])"
   ]
  },
  {
   "cell_type": "code",
   "execution_count": 22,
   "id": "dc5e6d00-40d9-494d-9eca-004a0b3802be",
   "metadata": {},
   "outputs": [],
   "source": [
    "param_grid = {\n",
    "    \"classifier__n_estimators\": [30, 60, 100],\n",
    "    'classifier__max_depth': [5, 10, 20]\n",
    "}"
   ]
  },
  {
   "cell_type": "code",
   "execution_count": 23,
   "id": "0c5d22dd-fbae-497a-ac92-37a8b9d7c0b5",
   "metadata": {},
   "outputs": [],
   "source": [
    "grid_search = GridSearchCV(pipe, param_grid, cv=5)"
   ]
  },
  {
   "cell_type": "code",
   "execution_count": 24,
   "id": "fa0c68a7-bd0e-4e49-82bb-585625f6945e",
   "metadata": {},
   "outputs": [
    {
     "name": "stdout",
     "output_type": "stream",
     "text": [
      "Best parameters: {'classifier__max_depth': 10, 'classifier__n_estimators': 30}\n",
      "Best cross-validated score: 0.9961570680628272\n"
     ]
    }
   ],
   "source": [
    "grid_search.fit(X_train, y_train)\n",
    "print(\"Best parameters:\", grid_search.best_params_)\n",
    "print(\"Best cross-validated score:\", grid_search.best_score_)"
   ]
  },
  {
   "cell_type": "code",
   "execution_count": 26,
   "id": "aa584d63-dbc9-44b6-abcc-6357a0712a45",
   "metadata": {},
   "outputs": [
    {
     "data": {
      "text/plain": [
       "0.8782244634858333"
      ]
     },
     "execution_count": 26,
     "metadata": {},
     "output_type": "execute_result"
    }
   ],
   "source": [
    "pred = grid_search.predict(X_valid)\n",
    "fpr, tpr, thresholds = metrics.roc_curve(y_valid, pred, pos_label=1)\n",
    "metrics.auc(fpr, tpr)"
   ]
  },
  {
   "cell_type": "code",
   "execution_count": 45,
   "id": "bb66f883-893a-4c9a-b257-2a141f91197e",
   "metadata": {},
   "outputs": [
    {
     "name": "stderr",
     "output_type": "stream",
     "text": [
      "2023/09/06 22:36:31 INFO mlflow.tracking.fluent: Experiment with name 'my_kaggle_experiment' does not exist. Creating a new experiment.\n"
     ]
    },
    {
     "data": {
      "text/plain": [
       "<Experiment: artifact_location='file:///home/ubuntu/Binary_Classification_of_Machine_Failures/mlruns/134646236454958879', creation_time=1694039791949, experiment_id='134646236454958879', last_update_time=1694039791949, lifecycle_stage='active', name='my_kaggle_experiment', tags={}>"
      ]
     },
     "execution_count": 45,
     "metadata": {},
     "output_type": "execute_result"
    }
   ],
   "source": [
    "mlflow.set_experiment(\"my_kaggle_experiment\")"
   ]
  },
  {
   "cell_type": "code",
   "execution_count": 46,
   "id": "d113981d-a4e7-4ecf-bdf2-250a61975fea",
   "metadata": {},
   "outputs": [
    {
     "name": "stdout",
     "output_type": "stream",
     "text": [
      "Best parameters: {'classifier__max_depth': 10, 'classifier__n_estimators': 100}\n",
      "Best cross-validated score: 0.996261780104712\n",
      "AUC: 0.8787598716312844\n"
     ]
    }
   ],
   "source": [
    "with mlflow.start_run(run_name=\"RandomForest_run\"):\n",
    "    \n",
    "    numeric_features = col_num.drop(target_col)\n",
    "    numeric_transformer = StandardScaler()\n",
    "    categorical_features = ['Type']\n",
    "    categorical_transformer = OneHotEncoder()\n",
    "\n",
    "    processor = ColumnTransformer(\n",
    "        transformers=[\n",
    "            (\"num\", numeric_transformer, numeric_features),\n",
    "            (\"cat\", categorical_transformer, categorical_features)\n",
    "        ]\n",
    "    )\n",
    "\n",
    "    model = RandomForestClassifier()\n",
    "    pipe = Pipeline([\n",
    "        ('processor', processor), \n",
    "        ('classifier', model)\n",
    "    ])\n",
    "\n",
    "    param_grid = {\n",
    "        \"classifier__n_estimators\": [30, 60, 100],\n",
    "        'classifier__max_depth': [5, 10, 20]\n",
    "    }\n",
    "\n",
    "    grid_search = GridSearchCV(pipe, param_grid, cv=5)\n",
    "    grid_search.fit(X_train, y_train)\n",
    "    \n",
    "    # Logging the best parameters and cross-validated score\n",
    "    mlflow.log_params(grid_search.best_params_)\n",
    "    mlflow.log_metric(\"best_cv_score\", grid_search.best_score_)\n",
    "\n",
    "    pred = grid_search.predict(X_valid)\n",
    "\n",
    "    # Calculate and log AUC\n",
    "    fpr, tpr, thresholds = metrics.roc_curve(y_valid, pred, pos_label=1)\n",
    "    auc_score = metrics.auc(fpr, tpr)\n",
    "    mlflow.log_metric(\"auc\", auc_score)\n",
    "\n",
    "    # Log the trained model (optional)\n",
    "    mlflow.sklearn.log_model(grid_search.best_estimator_, \"RandomForest_model\")\n",
    "\n",
    "print(\"Best parameters:\", grid_search.best_params_)\n",
    "print(\"Best cross-validated score:\", grid_search.best_score_)\n",
    "print(\"AUC:\", auc_score)\n"
   ]
  },
  {
   "cell_type": "code",
   "execution_count": null,
   "id": "7e9548a3-1ac8-4970-ab8e-0f0baa108eb2",
   "metadata": {},
   "outputs": [],
   "source": []
  }
 ],
 "metadata": {
  "kernelspec": {
   "display_name": "Python 3",
   "language": "python",
   "name": "python3"
  },
  "language_info": {
   "codemirror_mode": {
    "name": "ipython",
    "version": 3
   },
   "file_extension": ".py",
   "mimetype": "text/x-python",
   "name": "python",
   "nbconvert_exporter": "python",
   "pygments_lexer": "ipython3",
   "version": "3.8.10"
  }
 },
 "nbformat": 4,
 "nbformat_minor": 5
}
